{
 "cells": [
  {
   "cell_type": "markdown",
   "id": "29e1bf38-2f28-4de2-9e7c-1589a5641530",
   "metadata": {},
   "source": [
    "****Lapisdastrian Problem****"
   ]
  },
  {
   "cell_type": "markdown",
   "id": "be889dd9-83f2-4c5e-af23-52c454435454",
   "metadata": {},
   "source": [
    "Importando y conociendo los datos"
   ]
  },
  {
   "cell_type": "code",
   "execution_count": 1,
   "id": "a3f6f413-d08c-46b2-bea6-dbac615a29b9",
   "metadata": {
    "tags": []
   },
   "outputs": [
    {
     "name": "stdout",
     "output_type": "stream",
     "text": [
      "Index(['Unnamed: 0', 'carat', 'cut', 'color', 'clarity', 'depth', 'table',\n",
      "       'price', 'x', 'y', 'z'],\n",
      "      dtype='object')\n",
      "Index(['Unnamed: 0', 'latitude', 'longitude '], dtype='object')\n"
     ]
    }
   ],
   "source": [
    "import pandas as pd\n",
    "diamonds_path='C:\\\\Users\\\\MONICA ANDREA REYES\\\\GIT/S_Diamonds/diamonds.csv'\n",
    "coords_diamonds_path= 'C:\\\\Users\\\\MONICA ANDREA REYES\\\\GIT/S_Diamonds/coords_diamonds.csv'\n",
    "diamonds=pd.read_csv(diamonds_path)\n",
    "coord=pd.read_csv(coords_diamonds_path)\n",
    "print(diamonds.keys())\n",
    "print(coord.keys())"
   ]
  },
  {
   "cell_type": "code",
   "execution_count": 2,
   "id": "6eb4829c-1991-4867-9b16-fff95fdf89ca",
   "metadata": {},
   "outputs": [
    {
     "name": "stdout",
     "output_type": "stream",
     "text": [
      "Index(['Unnamed: 0', 'carat', 'cut', 'color', 'clarity', 'depth', 'table',\n",
      "       'price', 'x', 'y', 'z', 'Unnamed: 0', 'latitude', 'longitude '],\n",
      "      dtype='object')\n"
     ]
    }
   ],
   "source": [
    "#Para esto concatenamos los datos de los elementos de la primera tabla agregandole las coordenadas\n",
    "data = pd.concat([diamonds, coord], axis=1, join=\"inner\")\n",
    "print(data.keys())"
   ]
  },
  {
   "cell_type": "markdown",
   "id": "01e5eb90-3494-4beb-a899-ff2044c83756",
   "metadata": {},
   "source": [
    "**Procedamos con la limpieza de los datos**\n",
    "\n",
    "Notemos que caracteres especiales y filas con datos incompletos, eliminemoslos"
   ]
  },
  {
   "cell_type": "code",
   "execution_count": 3,
   "id": "258cfcd8-2633-4751-ac86-b0b10e7e2e41",
   "metadata": {},
   "outputs": [
    {
     "name": "stdout",
     "output_type": "stream",
     "text": [
      "Unnamed: 0         18366\n",
      "carat                0.3\n",
      "cut                !Good\n",
      "color                  D\n",
      "clarity              VS2\n",
      "depth               63.5\n",
      "table               53.0\n",
      "price                616\n",
      "x                    4.3\n",
      "y                   4.33\n",
      "z                   2.74\n",
      "Unnamed: 0         18366\n",
      "latitude      35.7719444\n",
      "longitude     -78.638889\n",
      "Name: 18366, dtype: object\n"
     ]
    }
   ],
   "source": [
    "print(data.iloc[18366, ])"
   ]
  },
  {
   "cell_type": "code",
   "execution_count": 5,
   "id": "de71d6f1-e480-49d8-b669-c464897cf928",
   "metadata": {},
   "outputs": [
    {
     "name": "stdout",
     "output_type": "stream",
     "text": [
      "Unnamed: 0         18366\n",
      "carat                0.3\n",
      "cut                 Good\n",
      "color                  D\n",
      "clarity              VS2\n",
      "depth               63.5\n",
      "table               53.0\n",
      "price                616\n",
      "x                    4.3\n",
      "y                   4.33\n",
      "z                   2.74\n",
      "Unnamed: 0         18366\n",
      "latitude      35.7719444\n",
      "longitude     -78.638889\n",
      "Name: 18366, dtype: object\n"
     ]
    }
   ],
   "source": [
    "#Eliminando algunos caracteres espeiales \n",
    "data_sc=data.replace({\"!\":\"\",\"#\":\"\",\"&\":\"\",\"\\*'\":\"\", \"\\?\":\"\"},regex=True)\n",
    "#Veamos que si se eliminaron\n",
    "print(data_sc.iloc[18366, ])"
   ]
  },
  {
   "cell_type": "code",
   "execution_count": 6,
   "id": "9365ab77-05f2-422d-ac0e-db12f695558a",
   "metadata": {},
   "outputs": [
    {
     "name": "stdout",
     "output_type": "stream",
     "text": [
      "    Unnamed: 0  carat        cut color clarity  depth  table  price     x  \\\n",
      "0            0   0.23      Ideal     E     SI2   61.5   55.0    326  3.95   \n",
      "1            1   0.21    Premium     E     SI1   59.8   61.0    326  3.89   \n",
      "2            2   0.23       Good     E     VS1   56.9   65.0    327  4.05   \n",
      "3            3   0.29    Premium     I     VS2   62.4   58.0    334  4.20   \n",
      "4            4   0.31       Good     J     SI2   63.3   58.0    335  4.34   \n",
      "5            5   0.24  Very Good     J    VVS2   62.8   57.0    336  3.94   \n",
      "6            6   0.24  Very Good     I    VVS1   62.3   57.0    336  3.95   \n",
      "7            7   0.26  Very Good     H     SI1   61.9   55.0    337  4.07   \n",
      "8            8   0.22       Fair     E     VS2   65.1   61.0    337  3.87   \n",
      "9            9   0.23  Very Good     H     VS1   59.4   61.0    338  4.00   \n",
      "10          10   0.30       Good     J     SI1   64.0   55.0    339  4.25   \n",
      "11          11   0.23      Ideal     J     VS1   62.8   56.0    340  3.93   \n",
      "12          12   0.22    Premium     F     SI1   60.4   61.0    342  3.88   \n",
      "13          13   0.31      Ideal     J     SI2   62.2   54.0    344  4.35   \n",
      "14          14   0.20    Premium     E     SI2   60.2   62.0    345  3.79   \n",
      "15          15   0.32    Premium     E      I1   60.9   58.0    345  4.38   \n",
      "16          16   0.30      Ideal     I     SI2   62.0   54.0    348  4.31   \n",
      "17          17   0.30       Good     J     SI1   63.4   54.0    351  4.23   \n",
      "18          18   0.30       Good     J     SI1   63.8   56.0    351  4.23   \n",
      "19          19   0.30  Very Good     J     SI1    NaN   59.0    351  4.21   \n",
      "20          20   0.30       Good     I     SI2   63.3   56.0    351  4.26   \n",
      "21          21   0.23  Very Good     E     VS2   63.8   55.0    352  3.85   \n",
      "\n",
      "       y     z  Unnamed: 0    latitude  longitude   \n",
      "0   3.98  2.43           0  39.8813889  -83.093056  \n",
      "1   3.84  2.31           1  33.4150000 -111.548889  \n",
      "2   4.07  2.31           2  40.1672222 -105.101389  \n",
      "3   4.23  2.63           3  37.3711111  -85.583056  \n",
      "4   4.35  2.75           4  48.5394444 -121.745000  \n",
      "5   3.96  2.48           5  38.7705556  -81.553333  \n",
      "6   3.98  2.47           6  35.5780556 -108.321389  \n",
      "7   4.11  2.53           7   53.916667 -122.766667  \n",
      "8   3.78  2.49           8  33.3869444  -84.283056  \n",
      "9   4.05  2.39           9  47.6063889 -122.330833  \n",
      "10  4.28  2.73          10  41.5286111 -109.465556  \n",
      "11  3.90  2.46          11  47.8108333 -122.376111  \n",
      "12  3.84  2.33          12  43.5680556  -83.514167  \n",
      "13  4.37  2.71          13  34.2255556  -77.945000  \n",
      "14  3.75  2.27          14  28.3197222  -80.607778  \n",
      "15  4.42  2.68          15  37.6941667 -122.085278  \n",
      "16  4.34  2.68          16    55.07203   -6.516990  \n",
      "17  4.29  2.70          17  34.0522222 -118.242778  \n",
      "18  4.26  2.71          18  30.5880556 -103.894167  \n",
      "19  4.27  2.66          19  41.6005556  -93.608889  \n",
      "20  4.30  2.71          20  47.7758333 -117.545000  \n",
      "21  3.92  2.48          21   51.514125   -0.093689  \n"
     ]
    }
   ],
   "source": [
    "#Notemos que hay valores con NaN, comose ve en la fila 19\n",
    "print(data_sc.head(22))"
   ]
  },
  {
   "cell_type": "code",
   "execution_count": 7,
   "id": "6f68a531-32e6-44f9-a084-9e7d542c5975",
   "metadata": {},
   "outputs": [
    {
     "name": "stdout",
     "output_type": "stream",
     "text": [
      "    Unnamed: 0  carat        cut color clarity  depth  table  price     x  \\\n",
      "0            0   0.23      Ideal     E     SI2   61.5   55.0    326  3.95   \n",
      "1            1   0.21    Premium     E     SI1   59.8   61.0    326  3.89   \n",
      "2            2   0.23       Good     E     VS1   56.9   65.0    327  4.05   \n",
      "3            3   0.29    Premium     I     VS2   62.4   58.0    334  4.20   \n",
      "4            4   0.31       Good     J     SI2   63.3   58.0    335  4.34   \n",
      "5            5   0.24  Very Good     J    VVS2   62.8   57.0    336  3.94   \n",
      "6            6   0.24  Very Good     I    VVS1   62.3   57.0    336  3.95   \n",
      "7            7   0.26  Very Good     H     SI1   61.9   55.0    337  4.07   \n",
      "8            8   0.22       Fair     E     VS2   65.1   61.0    337  3.87   \n",
      "9            9   0.23  Very Good     H     VS1   59.4   61.0    338  4.00   \n",
      "10          10   0.30       Good     J     SI1   64.0   55.0    339  4.25   \n",
      "11          11   0.23      Ideal     J     VS1   62.8   56.0    340  3.93   \n",
      "12          12   0.22    Premium     F     SI1   60.4   61.0    342  3.88   \n",
      "13          13   0.31      Ideal     J     SI2   62.2   54.0    344  4.35   \n",
      "14          14   0.20    Premium     E     SI2   60.2   62.0    345  3.79   \n",
      "15          15   0.32    Premium     E      I1   60.9   58.0    345  4.38   \n",
      "16          16   0.30      Ideal     I     SI2   62.0   54.0    348  4.31   \n",
      "17          17   0.30       Good     J     SI1   63.4   54.0    351  4.23   \n",
      "18          18   0.30       Good     J     SI1   63.8   56.0    351  4.23   \n",
      "20          20   0.30       Good     I     SI2   63.3   56.0    351  4.26   \n",
      "21          21   0.23  Very Good     E     VS2   63.8   55.0    352  3.85   \n",
      "22          22   0.23  Very Good     H     VS1   61.0   57.0    353  3.94   \n",
      "\n",
      "       y     z  Unnamed: 0    latitude  longitude   \n",
      "0   3.98  2.43           0  39.8813889  -83.093056  \n",
      "1   3.84  2.31           1  33.4150000 -111.548889  \n",
      "2   4.07  2.31           2  40.1672222 -105.101389  \n",
      "3   4.23  2.63           3  37.3711111  -85.583056  \n",
      "4   4.35  2.75           4  48.5394444 -121.745000  \n",
      "5   3.96  2.48           5  38.7705556  -81.553333  \n",
      "6   3.98  2.47           6  35.5780556 -108.321389  \n",
      "7   4.11  2.53           7   53.916667 -122.766667  \n",
      "8   3.78  2.49           8  33.3869444  -84.283056  \n",
      "9   4.05  2.39           9  47.6063889 -122.330833  \n",
      "10  4.28  2.73          10  41.5286111 -109.465556  \n",
      "11  3.90  2.46          11  47.8108333 -122.376111  \n",
      "12  3.84  2.33          12  43.5680556  -83.514167  \n",
      "13  4.37  2.71          13  34.2255556  -77.945000  \n",
      "14  3.75  2.27          14  28.3197222  -80.607778  \n",
      "15  4.42  2.68          15  37.6941667 -122.085278  \n",
      "16  4.34  2.68          16    55.07203   -6.516990  \n",
      "17  4.29  2.70          17  34.0522222 -118.242778  \n",
      "18  4.26  2.71          18  30.5880556 -103.894167  \n",
      "20  4.30  2.71          20  47.7758333 -117.545000  \n",
      "21  3.92  2.48          21   51.514125   -0.093689  \n",
      "22  3.96  2.41          22   52.033333   -0.633333  \n"
     ]
    }
   ],
   "source": [
    "#eliminemos los NaN\n",
    "clean_data=data_sc.dropna()\n",
    "print(clean_data.head(22))"
   ]
  },
  {
   "cell_type": "markdown",
   "id": "5e62311c-75aa-4b22-81ad-038eb776e7fb",
   "metadata": {},
   "source": [
    "**Implementando el algoritmo**"
   ]
  },
  {
   "cell_type": "code",
   "execution_count": 8,
   "id": "9d13984c-65f2-47d2-9952-5d8d8e900ade",
   "metadata": {},
   "outputs": [
    {
     "name": "stdout",
     "output_type": "stream",
     "text": [
      "Requirement already satisfied: numpy in c:\\users\\monica andrea reyes\\anaconda3\\lib\\site-packages (1.20.3)\n",
      "Requirement already satisfied: scipy in c:\\users\\monica andrea reyes\\anaconda3\\lib\\site-packages (1.7.1)\n",
      "Requirement already satisfied: matplotlib in c:\\users\\monica andrea reyes\\anaconda3\\lib\\site-packages (3.4.3)\n",
      "Requirement already satisfied: ipython in c:\\users\\monica andrea reyes\\anaconda3\\lib\\site-packages (7.29.0)\n",
      "Requirement already satisfied: scikit-learn in c:\\users\\monica andrea reyes\\anaconda3\\lib\\site-packages (0.24.2)\n",
      "Requirement already satisfied: pandas in c:\\users\\monica andrea reyes\\anaconda3\\lib\\site-packages (1.3.4)\n",
      "Requirement already satisfied: mglearn in c:\\users\\monica andrea reyes\\anaconda3\\lib\\site-packages (0.1.9)\n",
      "Requirement already satisfied: kiwisolver>=1.0.1 in c:\\users\\monica andrea reyes\\anaconda3\\lib\\site-packages (from matplotlib) (1.3.1)\n",
      "Requirement already satisfied: pyparsing>=2.2.1 in c:\\users\\monica andrea reyes\\anaconda3\\lib\\site-packages (from matplotlib) (3.0.4)\n",
      "Requirement already satisfied: pillow>=6.2.0 in c:\\users\\monica andrea reyes\\anaconda3\\lib\\site-packages (from matplotlib) (8.4.0)\n",
      "Requirement already satisfied: python-dateutil>=2.7 in c:\\users\\monica andrea reyes\\anaconda3\\lib\\site-packages (from matplotlib) (2.8.2)\n",
      "Requirement already satisfied: cycler>=0.10 in c:\\users\\monica andrea reyes\\anaconda3\\lib\\site-packages (from matplotlib) (0.10.0)\n",
      "Requirement already satisfied: prompt-toolkit!=3.0.0,!=3.0.1,<3.1.0,>=2.0.0 in c:\\users\\monica andrea reyes\\anaconda3\\lib\\site-packages (from ipython) (3.0.20)\n",
      "Requirement already satisfied: jedi>=0.16 in c:\\users\\monica andrea reyes\\anaconda3\\lib\\site-packages (from ipython) (0.18.0)\n",
      "Requirement already satisfied: matplotlib-inline in c:\\users\\monica andrea reyes\\anaconda3\\lib\\site-packages (from ipython) (0.1.2)\n",
      "Requirement already satisfied: colorama in c:\\users\\monica andrea reyes\\anaconda3\\lib\\site-packages (from ipython) (0.4.4)\n",
      "Requirement already satisfied: backcall in c:\\users\\monica andrea reyes\\anaconda3\\lib\\site-packages (from ipython) (0.2.0)\n",
      "Requirement already satisfied: pickleshare in c:\\users\\monica andrea reyes\\anaconda3\\lib\\site-packages (from ipython) (0.7.5)\n",
      "Requirement already satisfied: decorator in c:\\users\\monica andrea reyes\\anaconda3\\lib\\site-packages (from ipython) (5.1.0)\n",
      "Requirement already satisfied: traitlets>=4.2 in c:\\users\\monica andrea reyes\\anaconda3\\lib\\site-packages (from ipython) (5.1.0)\n",
      "Requirement already satisfied: setuptools>=18.5 in c:\\users\\monica andrea reyes\\anaconda3\\lib\\site-packages (from ipython) (58.0.4)\n",
      "Requirement already satisfied: pygments in c:\\users\\monica andrea reyes\\anaconda3\\lib\\site-packages (from ipython) (2.10.0)\n",
      "Requirement already satisfied: threadpoolctl>=2.0.0 in c:\\users\\monica andrea reyes\\anaconda3\\lib\\site-packages (from scikit-learn) (2.2.0)\n",
      "Requirement already satisfied: joblib>=0.11 in c:\\users\\monica andrea reyes\\anaconda3\\lib\\site-packages (from scikit-learn) (1.1.0)\n",
      "Requirement already satisfied: pytz>=2017.3 in c:\\users\\monica andrea reyes\\anaconda3\\lib\\site-packages (from pandas) (2021.3)\n",
      "Requirement already satisfied: imageio in c:\\users\\monica andrea reyes\\anaconda3\\lib\\site-packages (from mglearn) (2.9.0)\n",
      "Requirement already satisfied: six in c:\\users\\monica andrea reyes\\anaconda3\\lib\\site-packages (from cycler>=0.10->matplotlib) (1.16.0)\n",
      "Requirement already satisfied: parso<0.9.0,>=0.8.0 in c:\\users\\monica andrea reyes\\anaconda3\\lib\\site-packages (from jedi>=0.16->ipython) (0.8.2)\n",
      "Requirement already satisfied: wcwidth in c:\\users\\monica andrea reyes\\anaconda3\\lib\\site-packages (from prompt-toolkit!=3.0.0,!=3.0.1,<3.1.0,>=2.0.0->ipython) (0.2.5)\n",
      "Note: you may need to restart the kernel to use updated packages.\n"
     ]
    }
   ],
   "source": [
    "pip install numpy scipy matplotlib ipython scikit-learn pandas mglearn"
   ]
  },
  {
   "cell_type": "code",
   "execution_count": 9,
   "id": "ea81468b-738e-4858-9a15-fd5c0742a9c4",
   "metadata": {},
   "outputs": [],
   "source": [
    "#Instalando algunas librerias que necesitamos para poder implementar el aalgorimo de K-vecinos\n",
    "from sklearn.neighbors import KNeighborsRegressor\n",
    "import matplotlib.pyplot as plt\n",
    "import numpy as np\n",
    "from sklearn.model_selection import train_test_split"
   ]
  },
  {
   "cell_type": "markdown",
   "id": "f430fdb5-4a32-4d83-a15e-0ebc577222f7",
   "metadata": {},
   "source": [
    "Consideremos solamente algunas caracteristicas:"
   ]
  },
  {
   "cell_type": "code",
   "execution_count": 10,
   "id": "f20a3d06-fe57-44af-ab4c-a0edcc4a6edf",
   "metadata": {},
   "outputs": [],
   "source": [
    "diamonds_features= ['carat','depth','table','x','y','z','longitude ']"
   ]
  },
  {
   "cell_type": "code",
   "execution_count": 11,
   "id": "1cbbd571-d24d-469a-a440-ee1a24c14b6b",
   "metadata": {},
   "outputs": [],
   "source": [
    "X = clean_data[diamonds_features]\n",
    "y = clean_data.price"
   ]
  },
  {
   "cell_type": "code",
   "execution_count": 12,
   "id": "47bd631c-f463-4d3a-a9a9-50f9da750366",
   "metadata": {},
   "outputs": [],
   "source": [
    "#Dividimos el dataset, considerando el 70% de los datos como entenamiento y el resto de prueba.\n",
    "X_train, X_test, y_train, y_test = train_test_split(X,y, test_size=.7, train_size=.3,random_state=0)"
   ]
  },
  {
   "cell_type": "code",
   "execution_count": 13,
   "id": "7f7824d9-b5f8-42ae-94d1-27febda80c60",
   "metadata": {},
   "outputs": [
    {
     "name": "stdout",
     "output_type": "stream",
     "text": [
      "Test set R^2: 0.83\n"
     ]
    }
   ],
   "source": [
    "#Entrenamos el algoritmo en nuestros datos de entrenamiento considerando 8 vecinos \n",
    "reg = KNeighborsRegressor(n_neighbors=8)\n",
    "reg.fit(X_train, y_train)\n",
    "#Imprimimos el score de predicción\n",
    "#print(\"Test set predictions:\\n{}\".format(reg.predict(X_test)))\n",
    "print(\"Test set R^2: {:.2f}\".format(reg.score(X_test, y_test)))"
   ]
  },
  {
   "cell_type": "markdown",
   "id": "c70e56b3-7f58-4c08-a496-71f5876256cb",
   "metadata": {},
   "source": [
    "**Calculemos el costo de los diamantes robados**"
   ]
  },
  {
   "cell_type": "code",
   "execution_count": 15,
   "id": "0e7f7ab2-b157-4f76-8f2a-dc542c5cd3a6",
   "metadata": {},
   "outputs": [
    {
     "name": "stdout",
     "output_type": "stream",
     "text": [
      "Index(['Unnamed: 0', 'Carat', 'Cut', 'Color', 'Clarity', 'Depth', 'Table', 'x',\n",
      "       'y', 'z', 'latitude', 'longitude'],\n",
      "      dtype='object')\n"
     ]
    }
   ],
   "source": [
    "#Importemos el conjunto de datos de los diamantes robados\n",
    "stolen_diamonds_path='C:\\\\Users\\\\MONICA ANDREA REYES\\\\GIT/S_Diamonds/stolen_diamonds.csv'\n",
    "stolen_diamonds=pd.read_csv(stolen_diamonds_path)\n",
    "print(stolen_diamonds.columns)"
   ]
  },
  {
   "cell_type": "code",
   "execution_count": 16,
   "id": "0b9eb034-c902-4532-92ec-f2518d725e8c",
   "metadata": {},
   "outputs": [
    {
     "name": "stdout",
     "output_type": "stream",
     "text": [
      "Test set predictions:\n",
      "[3899.25  4688.375 1847.    1069.125  784.875 4451.    1782.75  6917.875\n",
      "  928.75   870.625]\n"
     ]
    }
   ],
   "source": [
    "#Consideremos solo las caracteristicas que se necesitan para nuestro algoritmo\n",
    "SD= stolen_diamonds[['Carat','Depth','Table', 'x', 'y', 'z','longitude']]\n",
    "#Hagamos la predección\n",
    "print(\"Test set predictions:\\n{}\".format(reg.predict(SD)))"
   ]
  },
  {
   "cell_type": "code",
   "execution_count": null,
   "id": "382d45e1-1185-403e-afe6-877c87ee154a",
   "metadata": {},
   "outputs": [],
   "source": []
  }
 ],
 "metadata": {
  "kernelspec": {
   "display_name": "Python 3 (ipykernel)",
   "language": "python",
   "name": "python3"
  },
  "language_info": {
   "codemirror_mode": {
    "name": "ipython",
    "version": 3
   },
   "file_extension": ".py",
   "mimetype": "text/x-python",
   "name": "python",
   "nbconvert_exporter": "python",
   "pygments_lexer": "ipython3",
   "version": "3.9.7"
  }
 },
 "nbformat": 4,
 "nbformat_minor": 5
}
